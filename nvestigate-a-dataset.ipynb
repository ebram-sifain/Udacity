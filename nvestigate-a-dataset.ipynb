{
 "cells": [
  {
   "cell_type": "markdown",
   "metadata": {
    "_cell_guid": "b1076dfc-b9ad-4769-8c92-a6c4dae69d19",
    "_uuid": "8f2839f25d086af736a60e9eeb907d3b93b6e0e5"
   },
   "source": [
    "# Investigate a Dataset (TMDb Movie Data)\n",
    "> The primary goal of the project is to go through the dataset and the general data analysis process using numpy, pandas and matplotlib. This contain four parts:\n",
    "\n",
    "## Table of Contents\n",
    "<ul>\n",
    "<li><a href=\"#intro\">Introduction</a></li>\n",
    "<li><a href=\"#wrangling\">Data Wrangling</a></li>\n",
    "<li><a href=\"#eda\">Exploratory Data Analysis</a></li>\n",
    "<li><a href=\"#conclusions\">Conclusions</a></li>\n",
    "</ul>"
   ]
  },
  {
   "cell_type": "markdown",
   "metadata": {
    "_cell_guid": "79c7e3d0-c299-4dcb-8224-4455121ee9b0",
    "_uuid": "d629ff2d2480ee46fbb7e2d37f6b5fab8052498a",
    "collapsed": true
   },
   "source": [
    "<a id='intro'></a>\n",
    "## Introduction\n",
    "\n",
    "### Dataset\n",
    "- I choose the TMDb movie data set for data analysis. This data set contains information about 10,000 movies collected from The Movie Database (TMDb), including user ratings and revenue.I would like to find other intresting patterns in the dataset.\n",
    "<br><br>\n",
    "> **Contain: **\n",
    "  - Total Rows = 10866\n",
    "  - Total Columns = 21\n",
    "  - After Seeing the dataset we can say that some columns is contain null values\n",
    "\n",
    "### Questions\n",
    "> \n",
    "1.  Which year has the highest release of movies?\n",
    "2.  Which Movie Has The Highest Or Lowest Profit? Top 10 movies which earn highest profit?\n",
    "3.  Movie with Highest And Lowest Budget? \n",
    "4.  Which movie made the highest revenue and lowest as well?\n",
    "5.  Movie with shorest and longest runtime?\n",
    "6.  Which movie get the highest or lowest votes (Ratings).\n",
    "7.  Which Year Has The Highest Profit Rate?\n",
    "8.  Which length movies most liked by the audiences according to their popularity?\n",
    "9.  Average Runtime Of Movies From Year To Year?\n",
    "10. How Does The Revenue And Popularity differs Budget And Runtime? And How Does Popularity Depends On Profit?\n",
    "11. Which Month Released Highest Number Of Movies In All Of The Years? And Which Month Made The Highest Average Revenue?\n",
    "12. Which Genre Has The Highest Release Of Movies?\n",
    "13. Which genres are most popular from year to year? \n",
    "14. Most Frequent star cast?\n",
    "15. Top 20 Production Companies With Higher Number Of Release?\n",
    "16. Life Time Profit Earn By Each Production Company?\n",
    "17. Top 20 Director Who Directs Maximum Movies?\n",
    "18. What kinds of properties are associated with movies that have high revenues?"
   ]
  },
  {
   "cell_type": "code",
   "execution_count": null,
   "metadata": {
    "_uuid": "fa685e9cce37a61deb20b13e3a8baee7db1d16e7"
   },
   "outputs": [],
   "source": [
    "import pandas as pd\n",
    "import numpy as np\n",
    "import seaborn as sns\n",
    "import matplotlib.pyplot as plt"
   ]
  },
  {
   "cell_type": "markdown",
   "metadata": {
    "_uuid": "7c9d862b0ff2b4b882cf8c39c67b271caa230a0f"
   },
   "source": [
    "<a id='wrangling'></a>\n",
    "## Data Wrangling\n",
    "\n",
    "> After Observing the dataset and the questions related to this dataset for the analysis we will be keeping only relevent data and deleting the unused data.\n",
    "\n",
    "### General Properties"
   ]
  },
  {
   "cell_type": "code",
   "execution_count": 2,
   "metadata": {
    "_uuid": "e4d1a28eb1ab201d77e79949be48291404175890"
   },
   "outputs": [
    {
     "ename": "NameError",
     "evalue": "name 'pd' is not defined",
     "output_type": "error",
     "traceback": [
      "\u001b[1;31m---------------------------------------------------------------------------\u001b[0m",
      "\u001b[1;31mNameError\u001b[0m                                 Traceback (most recent call last)",
      "\u001b[1;32mC:\\Users\\EBRAM~1.SIF\\AppData\\Local\\Temp/ipykernel_16588/1247695537.py\u001b[0m in \u001b[0;36m<module>\u001b[1;34m\u001b[0m\n\u001b[0;32m      2\u001b[0m \u001b[1;31m#   types and look for instances of missing or possibly errant data.\u001b[0m\u001b[1;33m\u001b[0m\u001b[1;33m\u001b[0m\u001b[1;33m\u001b[0m\u001b[0m\n\u001b[0;32m      3\u001b[0m \u001b[1;31m# Read the CSV File Using Pandas read_csv function\u001b[0m\u001b[1;33m\u001b[0m\u001b[1;33m\u001b[0m\u001b[1;33m\u001b[0m\u001b[0m\n\u001b[1;32m----> 4\u001b[1;33m \u001b[0mreader\u001b[0m \u001b[1;33m=\u001b[0m \u001b[0mpd\u001b[0m\u001b[1;33m.\u001b[0m\u001b[0mread_csv\u001b[0m\u001b[1;33m(\u001b[0m\u001b[1;34m'tmdb-movies.csv'\u001b[0m\u001b[1;33m)\u001b[0m\u001b[1;33m\u001b[0m\u001b[1;33m\u001b[0m\u001b[0m\n\u001b[0m\u001b[0;32m      5\u001b[0m \u001b[1;31m# print the concise summery of the dataset\u001b[0m\u001b[1;33m\u001b[0m\u001b[1;33m\u001b[0m\u001b[1;33m\u001b[0m\u001b[0m\n\u001b[0;32m      6\u001b[0m \u001b[0mreader\u001b[0m\u001b[1;33m.\u001b[0m\u001b[0minfo\u001b[0m\u001b[1;33m(\u001b[0m\u001b[1;33m)\u001b[0m\u001b[1;33m\u001b[0m\u001b[1;33m\u001b[0m\u001b[0m\n",
      "\u001b[1;31mNameError\u001b[0m: name 'pd' is not defined"
     ]
    }
   ],
   "source": [
    "# Load your data and print out a few lines. Perform operations to inspect data\n",
    "#   types and look for instances of missing or possibly errant data.\n",
    "# Read the CSV File Using Pandas read_csv function\n",
    "reader = pd.read_csv('tmdb-movies.csv')   \n",
    "# print the concise summery of the dataset\n",
    "reader.info()   "
   ]
  },
  {
   "cell_type": "code",
   "execution_count": null,
   "metadata": {
    "_uuid": "65344909b8f7d363d6493379e61b8414b83897a0"
   },
   "outputs": [],
   "source": [
    "#print first two rows of the dataset\n",
    "reader.head(2)"
   ]
  },
  {
   "cell_type": "code",
   "execution_count": null,
   "metadata": {
    "_uuid": "959d24fbcaefafa33c7ed1b1a9536bb922b44c01"
   },
   "outputs": [],
   "source": [
    "#print Last two rows of the dataset\n",
    "reader.tail(2)"
   ]
  },
  {
   "cell_type": "markdown",
   "metadata": {
    "_uuid": "bd5ccb09459096271429e518759fc85f42d291f3"
   },
   "source": [
    ">**Observation From The Dataset**\n",
    "- The columns 'budget', 'revenue', 'budget_adj', 'revenue_adj' has not given.But for this dataset i will assume the currency is in US dollor.\n",
    "- The dataset contain lots of movies where the budget or revenue have a value of '0'."
   ]
  },
  {
   "cell_type": "code",
   "execution_count": null,
   "metadata": {
    "_uuid": "2419a48390dd195b4d0a556be84b9f152fc9ad5e"
   },
   "outputs": [],
   "source": [
    "#print concise summery of the dataset\n",
    "reader.describe()"
   ]
  },
  {
   "cell_type": "code",
   "execution_count": null,
   "metadata": {
    "_uuid": "fc3aa62a29447002b9736b60b7c7cde762b7df8d"
   },
   "outputs": [],
   "source": [
    "#since the dataset contain null values also \n",
    "#count total rows in each column which contain null values\n",
    "reader.isna().sum()"
   ]
  },
  {
   "cell_type": "code",
   "execution_count": null,
   "metadata": {
    "_uuid": "29c3f0511eb14df6b924c3be5d146fe2a26362cc"
   },
   "outputs": [],
   "source": [
    "#fill the null values with zero using 'fillna' function\n",
    "#I don't want to update it with zero because some rows also contain string values.\n",
    "reader.fillna(0)\n",
    "print()"
   ]
  },
  {
   "cell_type": "markdown",
   "metadata": {
    "_uuid": "df91434bdee91c01c3baded58686c47774ba4b86"
   },
   "source": [
    "### Data Cleaning (Removing The Unused Information From The Dataset)\n",
    "> #### Information That We Need To Delete Or Modify\n",
    "1. We need to remove duplicate rows from the dataset\n",
    "2. Changing format of release date into datetime format\n",
    "3. Remove the unused colums that are not needes in the analysis process.\n",
    "4. Remove the movies which are having zero value of budget and revenue."
   ]
  },
  {
   "cell_type": "markdown",
   "metadata": {
    "_uuid": "6fb205e48431a3917ffe2783c741b7663ee2dbb7"
   },
   "source": [
    "**1. Remove Duplicate Rows**"
   ]
  },
  {
   "cell_type": "code",
   "execution_count": null,
   "metadata": {
    "_uuid": "50fc2396539fc3fda7d95bb6252ab088313cdbd8"
   },
   "outputs": [],
   "source": [
    "#'duplicated()' function in pandas return the duplicate row as True and othter as False\n",
    "#for counting the duplicate elements we sum all the rows\n",
    "sum(reader.duplicated())"
   ]
  },
  {
   "cell_type": "code",
   "execution_count": null,
   "metadata": {
    "_uuid": "809c1a0253a271a3f6e96e00374258d6cec0f30a"
   },
   "outputs": [],
   "source": [
    "#After calculating the duplicate row we can drop these row using 'drop_duplicates()' function\n",
    "reader.drop_duplicates(inplace = True)\n",
    "#afetr removing duplicate value from the dataset\n",
    "print(\"Afetr Removing Duplicate Values (Rows,Columns) : \",reader.shape)"
   ]
  },
  {
   "cell_type": "markdown",
   "metadata": {
    "_uuid": "fbff01a3c89ed2d5a1774a7786d810523e5abd33"
   },
   "source": [
    "**2. Changing Format Of Release Date Into Datetime Format**"
   ]
  },
  {
   "cell_type": "code",
   "execution_count": null,
   "metadata": {
    "_uuid": "cbb6f2a3eeb995a92ed3dc3f23a12b1cb77c440d"
   },
   "outputs": [],
   "source": [
    "#the the given in the dataset is in string format.\n",
    "#So we need to change this in datetime format\n",
    "\n",
    "reader['release_date'] = pd.to_datetime(reader['release_date'])\n",
    "reader['release_date'].head()"
   ]
  },
  {
   "cell_type": "markdown",
   "metadata": {
    "_uuid": "8410ae378fdad4f922acbd062be1f6760473df4d"
   },
   "source": [
    "**3. Remove the unused colums that are not needes in the analysis process**\n",
    "> We can see that 21 columns in the dataset, We can drop the the colums which are not usable in the data analysis process.\n",
    "columns like: imdb_id,overview etc.<br>\n",
    "> The columns like imdb_id, homepage,tagline, overview, budget_adj and revenue_adj are not required for my analysis and I will drop these columns."
   ]
  },
  {
   "cell_type": "code",
   "execution_count": null,
   "metadata": {
    "_uuid": "9bccee99a4a84eba517577022c050e5024e6aa02"
   },
   "outputs": [],
   "source": [
    "# After discussing the structure of the data and any problems that need to be\n",
    "#   cleaned, perform those cleaning steps in the second part of this section\n",
    "#we can see that 21 columns in the dataset, We can drop them using drop function.\n",
    "reader.drop(['budget_adj','revenue_adj','overview','imdb_id','homepage','tagline'],axis =1,inplace = True)\n",
    "print(\"Afetr Removing Unused Columns (Rows,Columns) : \",reader.shape)"
   ]
  },
  {
   "cell_type": "markdown",
   "metadata": {
    "_uuid": "1f801a64e1617521804925b61f59fc3ddb2cb8c2"
   },
   "source": [
    "**4. Drop theses rows which contain incorrect or inappropriate values.**\n",
    "> As you can see in this database of movies there are lots of movies where the budget or revenue have a value of '0' which means that the values of those variables of those movies has not been recorded. Calculating the profits of these movies would lead to inappropriate results. I think this may be due to varying factors like the lack of information, or the movies that were never released. I have chosen to eradicate these values during the data cleaning phase."
   ]
  },
  {
   "cell_type": "code",
   "execution_count": null,
   "metadata": {
    "_uuid": "b78cde252e6e938c89ab81df6fcdacf2bf6cc4db"
   },
   "outputs": [],
   "source": [
    "# Checking for an zero values in the budget and revenue columns\n",
    "print(\"Rows With Zero Values In The Budget Column:\",reader[(reader['budget']==0)].shape[0])\n",
    "print(\"Rows With Zero Values In The Revenue Column:\",reader[(reader['revenue']==0)].shape[0])"
   ]
  },
  {
   "cell_type": "markdown",
   "metadata": {
    "_uuid": "a70dade61b18917ff508a9cad07434da962aa3bb"
   },
   "source": [
    "##### Since now we have the columns, rows and format of the dataset in right way, its time to investigate the data for the questions asked. "
   ]
  },
  {
   "cell_type": "markdown",
   "metadata": {
    "_uuid": "8a380ab12f9f6b5fc93dfb3d0484ea443e6c6a1a"
   },
   "source": [
    "<a id='eda'></a>\n",
    "## Exploratory Data Analysis\n",
    "\n",
    "> **Tip**: Now that you've trimmed and cleaned your data, you're ready to move on to exploration. Compute statistics and create visualizations with the goal of addressing the research questions that you posed in the Introduction section. It is recommended that you be systematic with your approach. Look at one variable at a time, and then follow it up by looking at relationships between variables.\n",
    "\n",
    "### Research Question 1 : Which year has the highest release of movies?"
   ]
  },
  {
   "cell_type": "code",
   "execution_count": null,
   "metadata": {
    "_uuid": "8fd2056b58751f6871855ca3e3fe540fc811717d"
   },
   "outputs": [],
   "source": [
    "# make group for each year and count the number of movies in each year \n",
    "data=reader.groupby('release_year').count()['id']\n",
    "print(data.tail())\n",
    "\n",
    "#make group of the data according to their release year and count the total number of movies in each year and pot.\n",
    "reader.groupby('release_year').count()['id'].plot(xticks = np.arange(1960,2016,5))\n",
    "\n",
    "#set the figure size and labels\n",
    "sns.set(rc={'figure.figsize':(10,5)})\n",
    "plt.title(\"Year Vs Number Of Movies\",fontsize = 14)\n",
    "plt.xlabel('Release year',fontsize = 13)\n",
    "plt.ylabel('Number Of Movies',fontsize = 13)\n",
    "#set the style sheet\n",
    "sns.set_style(\"whitegrid\")"
   ]
  },
  {
   "cell_type": "markdown",
   "metadata": {
    "_uuid": "8a9cd4fc488e1e9eb0b81a1c7134464c938a7fba"
   },
   "source": [
    "#### After Seeing the plot and the output we can conclude that year 2014 year has the highest release of movies (700) followed by year 2013 (659) and year 2015 (629)."
   ]
  },
  {
   "cell_type": "markdown",
   "metadata": {
    "_uuid": "fee45da1aef8b56ba83c756b42d5e5d432ea881f"
   },
   "source": [
    "### Research Question 2 : Which Movie Has The Highest Or Lowest Profit?"
   ]
  },
  {
   "cell_type": "code",
   "execution_count": null,
   "metadata": {
    "_uuid": "2c762034783fb0e28af001a7fafc0b87498d3aa1"
   },
   "outputs": [],
   "source": [
    "#calculate Profit for each of the movie\n",
    "#add a new column in the dataframe name 'Profit'\n",
    "reader['Profit'] = reader['revenue'] - reader['budget']"
   ]
  },
  {
   "cell_type": "code",
   "execution_count": null,
   "metadata": {
    "_uuid": "92becbe3f3d430b79a0bf29d7ef68dc16ab6e504"
   },
   "outputs": [],
   "source": [
    "#use the function 'idmin' to find the index of lowest profit movie.\n",
    "#use the function 'idmax' to find the index of Highest profit movie.\n",
    "#print the row related to this index.\n",
    "def find_minmax(x):\n",
    "    #use the function 'idmin' to find the index of lowest profit movie.\n",
    "    min_index = reader[x].idxmin()\n",
    "    #use the function 'idmax' to find the index of Highest profit movie.\n",
    "    high_index = reader[x].idxmax()\n",
    "    high = pd.DataFrame(reader.loc[high_index,:])\n",
    "    low = pd.DataFrame(reader.loc[min_index,:])\n",
    "    \n",
    "    #print the movie with high and low profit\n",
    "    print(\"Movie Which Has Highest \"+ x + \" : \",reader['original_title'][high_index])\n",
    "    print(\"Movie Which Has Lowest \"+ x + \"  : \",reader['original_title'][min_index])\n",
    "    return pd.concat([high,low],axis = 1)\n",
    "\n",
    "#call the find_minmax function.\n",
    "find_minmax('Profit')"
   ]
  },
  {
   "cell_type": "markdown",
   "metadata": {
    "_uuid": "5c7fcce72870a70a88bb9a93029fba44ba8e4dae"
   },
   "source": [
    "> The first column shows the highest profit made by a movie and second column shows the highest in loss movie in this dataset.\n",
    "\n",
    ">As we can see that **'Avatar'** movie Directed by James Cameron earn the highest profit in all, making over 2.5B in profit in this dataset.And the most in loss movie in this dataset is **The Warrior's Way**. Going in loss by more than 400M was directed by Singmoo Lee.\n"
   ]
  },
  {
   "cell_type": "code",
   "execution_count": null,
   "metadata": {
    "_uuid": "381eaa7466c8b00353ff3681925eac2ca0152a46"
   },
   "outputs": [],
   "source": [
    "#make a plot which contain top 10 movies which earn highest profit.\n",
    "#sort the 'Profit' column in decending order and store it in the new dataframe,\n",
    "info = pd.DataFrame(reader['Profit'].sort_values(ascending = False))\n",
    "info['original_title'] = reader['original_title']\n",
    "data = list(map(str,(info['original_title'])))\n",
    "x = list(data[:10])\n",
    "y = list(info['Profit'][:10])\n",
    "\n",
    "#make a plot usinf pointplot for top 10 profitable movies.\n",
    "ax = sns.pointplot(x=y,y=x)\n",
    "\n",
    "#setup the figure size\n",
    "sns.set(rc={'figure.figsize':(10,5)})\n",
    "#setup the title and labels of the plot.\n",
    "ax.set_title(\"Top 10 Profitable Movies\",fontsize = 15)\n",
    "ax.set_xlabel(\"Profit\",fontsize = 13)\n",
    "sns.set_style(\"darkgrid\")"
   ]
  },
  {
   "cell_type": "markdown",
   "metadata": {
    "_uuid": "b5bbd09ffba69fe04a4bff0c17a5ee74a1292414"
   },
   "source": [
    "### Research Question 3 : Movie with Highest And Lowest Budget?"
   ]
  },
  {
   "cell_type": "code",
   "execution_count": null,
   "metadata": {
    "_uuid": "210f3c9255269abf1423c65bd69a87655c431869"
   },
   "outputs": [],
   "source": [
    "#find the movie with highest and lowest budget.\n",
    "#use 'find_minmax' function which i made earlier.\n",
    "#make sure that movie with budget zero didn't affect the result.\n",
    "#so change the zero into NAN in budget column.\n",
    "reader['budget'] = reader['budget'].replace(0,np.NAN)\n",
    "find_minmax('budget')"
   ]
  },
  {
   "cell_type": "code",
   "execution_count": null,
   "metadata": {
    "_uuid": "dc7995b481545d46dbda7d7b8ebcc2cba471a5ec"
   },
   "outputs": [],
   "source": [
    "#make a plot which contain top 10 highest budget movies.\n",
    "#sort the 'budget' column in decending order and store it in the new dataframe.\n",
    "info = pd.DataFrame(reader['budget'].sort_values(ascending = False))\n",
    "info['original_title'] = reader['original_title']\n",
    "data = list(map(str,(info['original_title'])))\n",
    "\n",
    "#extract the top 10 budget movies data from the list and dataframe.\n",
    "x = list(data[:10])\n",
    "y = list(info['budget'][:10])\n",
    "\n",
    "#plot the figure and setup the title and labels.\n",
    "ax = sns.pointplot(x=y,y=x)\n",
    "sns.set(rc={'figure.figsize':(10,5)})\n",
    "ax.set_title(\"Top 10 High Budget Movies\",fontsize = 15)\n",
    "ax.set_xlabel(\"Budget\",fontsize = 13)\n",
    "sns.set_style(\"darkgrid\")"
   ]
  },
  {
   "cell_type": "markdown",
   "metadata": {
    "_uuid": "70c39806d87132c7dd24a30f0f4e820240fac4fe"
   },
   "source": [
    "### Research Question 4 : Movie with Largest And Lowest Earned Revenue?"
   ]
  },
  {
   "cell_type": "code",
   "execution_count": null,
   "metadata": {
    "_uuid": "6cab4d65976ff851ae7756ee22f09de62f62521d"
   },
   "outputs": [],
   "source": [
    "#find the movie with highest and lowest earned revenue\n",
    "#use 'find_minmax' function which i made earlier\n",
    "find_minmax('revenue')"
   ]
  },
  {
   "cell_type": "markdown",
   "metadata": {
    "_uuid": "ac62e5f58851ab9b60c03d0ebb5341728a86edd1"
   },
   "source": [
    "> The first column shows the highest revenue made by a movie and second column shows the lowest revenue movie in this dataset. As we can see that **'Avatar'** movie Directed by James Cameron made the highest revenue in all, making over 2.78B revenue in this dataset. And the movie which made lowest revenue is **'Wild Card'** directed by Simon West."
   ]
  },
  {
   "cell_type": "code",
   "execution_count": null,
   "metadata": {
    "_uuid": "c9e3e245790c9691433cec95199728933aaea7a8"
   },
   "outputs": [],
   "source": [
    "#top 10 movies which made highest revenue.\n",
    "#sort the 'revenue' column in decending order and store it in the new dataframe.\n",
    "info = pd.DataFrame(reader['revenue'].sort_values(ascending = False))\n",
    "info['original_title'] = reader['original_title']\n",
    "data = list(map(str,(info['original_title'])))\n",
    "\n",
    "#extract the top 10 movies with high revenue data from the list and dataframe.\n",
    "x = list(data[:10])\n",
    "y = list(info['revenue'][:10])\n",
    "\n",
    "#make the point plot and setup the title and labels.\n",
    "ax = sns.pointplot(x=y,y=x)\n",
    "sns.set(rc={'figure.figsize':(10,5)})\n",
    "ax.set_title(\"Top 10 High Revenue Movies\",fontsize = 15)\n",
    "ax.set_xlabel(\"Revenue\",fontsize = 13)\n",
    "sns.set_style(\"darkgrid\")"
   ]
  },
  {
   "cell_type": "markdown",
   "metadata": {
    "_uuid": "302b10aa1bd61a67675071eae160aa16fa1cef9b"
   },
   "source": [
    "### Research Question 5 : Movie with Longest And Shortest Rintime?"
   ]
  },
  {
   "cell_type": "code",
   "execution_count": null,
   "metadata": {
    "_uuid": "ff024e0f16cbc137e08ef973c65572664e6afb24"
   },
   "outputs": [],
   "source": [
    "#find the movie with longest and shortest runtime.\n",
    "#use 'find_minmax' function which i made earlier by passsing 'runtime' as argument.\n",
    "#it can't be possible a movie with zero runtime,but dataset contain some data like this.\n",
    "#so update zero with NAN in runtime column.\n",
    "reader['runtime'] = reader['runtime'].replace(0,np.NAN)\n",
    "find_minmax('runtime')"
   ]
  },
  {
   "cell_type": "markdown",
   "metadata": {
    "_uuid": "b77eb6986144c4829db92916a3677331a49059ce"
   },
   "source": [
    "> So again the first column shows the runtime of the highest and second the lowest with column names as the index number.\n",
    "\n",
    "> I have never heard a runtime of a movie so long, Runtime of 900 min, that's approx 15 hrs! So **'The Story of Film: An Odyssey'** movie has the highest runtime. This movie contain 6 or 7 parts that's why it is so long.\n",
    "\n",
    "> The name of the movie with shortest runtime is **Fresh Guacamole**, runtime of just 2 min! Woah! I have never seen such a short movie in my lifetime."
   ]
  },
  {
   "cell_type": "code",
   "execution_count": null,
   "metadata": {
    "_uuid": "cf2e792da88f688981bc64ca91564f3bcfdf77da"
   },
   "outputs": [],
   "source": [
    "#top 10 Movies With Longest runtime\n",
    "#sort the 'runtime' column in decending order and store it in the new dataframe.\n",
    "info = pd.DataFrame(reader['runtime'].sort_values(ascending = False))\n",
    "info['original_title'] = reader['original_title']\n",
    "data = list(map(str,(info['original_title'])))\n",
    "\n",
    "#extract the top 10 longest duraton movies data from the list and dataframe.\n",
    "x = list(data[:10])\n",
    "y = list(info['runtime'][:10])\n",
    "\n",
    "#make the point plot and setup the title and labels.\n",
    "ax = sns.pointplot(x=y,y=x)\n",
    "sns.set(rc={'figure.figsize':(10,5)})\n",
    "ax.set_title(\"Top 10 Longest Movies\",fontsize = 15)\n",
    "ax.set_xlabel(\"Runtime\",fontsize = 13)\n",
    "sns.set_style(\"darkgrid\")"
   ]
  },
  {
   "cell_type": "markdown",
   "metadata": {
    "_uuid": "4fd24cb917a0f8fab439580e98d2d6acc7dbc5a3"
   },
   "source": [
    "### Research Question 6 : Movie with Highest And Lowest Votes?"
   ]
  },
  {
   "cell_type": "code",
   "execution_count": null,
   "metadata": {
    "_uuid": "c923cef6be8b2b6371931b2d2b6d3e76b5697e9b"
   },
   "outputs": [],
   "source": [
    "#find the movie with most and least votes.\n",
    "#use 'find_minmax' function which i made earlier by passsing 'Vote_average' as argument.\n",
    "find_minmax('vote_average')"
   ]
  },
  {
   "cell_type": "markdown",
   "metadata": {
    "_uuid": "c9e35dcb0b6e1013002d3af13eaf2745884ea012"
   },
   "source": [
    "> The first column containt the movie with highest votes and second column contain the movie with lowest votes.<br>\n",
    "> As we can see that movie **'The Story of Film: An Odyssey'** has the maximum rating (92%), which was directed by Mark Cousins and movie with lowest user ratings is **'Transmorphers'** with 15% user ratings, which was directed by Leigh Scott."
   ]
  },
  {
   "cell_type": "code",
   "execution_count": null,
   "metadata": {
    "_uuid": "15a7cde8db101952a5f5c89cbd62a3f60597d7e9"
   },
   "outputs": [],
   "source": [
    "#top 10 highets rated movies.\n",
    "#sort the 'vote_average' column in decending order and store it in the new dataframe.\n",
    "info = pd.DataFrame(reader['vote_average'].sort_values(ascending = False))\n",
    "info['original_title'] = reader['original_title']\n",
    "data = list(map(str,(info['original_title'])))\n",
    "\n",
    "##extract the top 10 highly rated movies data from the list and dataframe.\n",
    "x = list(data[:10])\n",
    "y = list(info['vote_average'][:10])\n",
    "\n",
    "#make the point plot and setup the title and labels.\n",
    "ax = sns.pointplot(x=y,y=x)\n",
    "sns.set(rc={'figure.figsize':(10,5)})\n",
    "ax.set_title(\"Top 10 Highest Rated Movies\",fontsize = 15)\n",
    "ax.set_xlabel(\"Vote Average\",fontsize = 13)\n",
    "#setup the stylesheet\n",
    "sns.set_style(\"darkgrid\")"
   ]
  },
  {
   "cell_type": "markdown",
   "metadata": {
    "_uuid": "7b3f667a62ae601fd4fcf1739ede878550498bac"
   },
   "source": [
    "### Research Question 7 : Which Year Has The Highest Profit Rate?"
   ]
  },
  {
   "cell_type": "code",
   "execution_count": null,
   "metadata": {
    "_uuid": "8f9ded6a5e2c35987ca4c47cd47d996af8ecd88c"
   },
   "outputs": [],
   "source": [
    "#do year-wise analysis of profit earn by movies in each earn.\n",
    "#take the average of profit made by movies in each year and plot.\n",
    "#make the group of the data according to their release_year and find the mean profit and plot.\n",
    "reader.groupby('release_year')['Profit'].mean().plot()\n",
    "\n",
    "#setup the title and labels of the figure.\n",
    "plt.title(\"Year Vs Average Profit\",fontsize = 14)\n",
    "plt.xlabel('Release year',fontsize = 13)\n",
    "plt.ylabel('Average Profit',fontsize = 13)\n",
    "\n",
    "#setup the figure size.\n",
    "sns.set(rc={'figure.figsize':(10,5)})\n",
    "sns.set_style(\"whitegrid\")"
   ]
  },
  {
   "cell_type": "markdown",
   "metadata": {
    "_uuid": "7f9af53e100963d5aa72ef87742764960f8b88c7"
   },
   "source": [
    "> **According to the plot year 2002-03 he most profitable years And the profit was very low between the years 1960 and 1970.** "
   ]
  },
  {
   "cell_type": "markdown",
   "metadata": {
    "_uuid": "c24f6ee79b667906aa38a8fcf329c8e624013a62"
   },
   "source": [
    "### Research Question 8 : Which length movies most liked by the audiences according to their popularity?"
   ]
  },
  {
   "cell_type": "code",
   "execution_count": null,
   "metadata": {
    "_uuid": "6c87d1d6efc6b8228b0e635ff0c0722fbec0f2af"
   },
   "outputs": [],
   "source": [
    "#use groupby function and group the data according to their runtime.\n",
    "#make a plot using their popularity and find which length movies are most popular.\n",
    "\n",
    "#make the group of the data according to their runtime and find the mean popularity related to this and plot.\n",
    "reader.groupby('runtime')['popularity'].mean().plot(figsize = (13,5),xticks=np.arange(0,1000,100))\n",
    "\n",
    "#setup the title of the figure\n",
    "plt.title(\"Runtime Vs Popularity\",fontsize = 14)\n",
    "\n",
    "#setup the x-label and y-label of the plot.\n",
    "plt.xlabel('Runtime',fontsize = 13)\n",
    "plt.ylabel('Average Popularity',fontsize = 13)\n",
    "\n",
    "#setup the figure size.\n",
    "sns.set(rc={'figure.figsize':(10,5)})\n",
    "sns.set_style(\"whitegrid\")"
   ]
  },
  {
   "cell_type": "markdown",
   "metadata": {
    "_uuid": "43bf6d36a7674e6faa3d075a6c40d347c38f917f"
   },
   "source": [
    "> **According to the plot we can say that movies in the range of 100-200 runtime are more popular than other runtime movies. Because it is boring to see the long duration movies.**  "
   ]
  },
  {
   "cell_type": "markdown",
   "metadata": {
    "_uuid": "19e5a6b4d201dc36f93d122e746c8637120f2882"
   },
   "source": [
    "### Research Question 9: Average Runtime Of Movies From Year To Year?"
   ]
  },
  {
   "cell_type": "code",
   "execution_count": null,
   "metadata": {
    "_uuid": "5163db343672c67ec3d083cfd63a569c063af124"
   },
   "outputs": [],
   "source": [
    "#how the runtime of the movies differ year to year.\n",
    "\n",
    "#make the group of the data according to their release_year and find the mean  related to this and plot.\n",
    "reader.groupby('release_year').mean()['runtime'].plot(xticks = np.arange(1960,2016,5))\n",
    "\n",
    "#setup the figure size.\n",
    "sns.set(rc={'figure.figsize':(10,5)})\n",
    "\n",
    "#setup the title of the figure\n",
    "plt.title(\"Runtime Vs Year\",fontsize = 14)\n",
    "\n",
    "#setup the x-label and y-label of the plot.\n",
    "plt.xlabel('Year',fontsize = 13)\n",
    "plt.ylabel('Runtime',fontsize = 13)\n",
    "sns.set_style(\"whitegrid\")"
   ]
  },
  {
   "cell_type": "markdown",
   "metadata": {
    "_uuid": "c7306af3e02320ace752ee335669de938b58b0ed"
   },
   "source": [
    "> **According to the plot movie duration is decreasing year to year and it's TRUE. Because at this time nobody want to watch the long duration movies because it is quite boring. That's why the average runtime duraion of the movies are arround 100 Minutes.** "
   ]
  },
  {
   "cell_type": "markdown",
   "metadata": {
    "_uuid": "3dd30e329fe645bff0807a409d20d4ef966dd710"
   },
   "source": [
    "### Research Question 10: How Does The Revenue And Popularity differs Budget And Runtime? And How Does Popularity Depends On Profit?"
   ]
  },
  {
   "cell_type": "code",
   "execution_count": null,
   "metadata": {
    "_uuid": "a7c19018943bfdeee00f91be55271bd8989d6441"
   },
   "outputs": [],
   "source": [
    "#how does revenue change according to their budget.\n",
    "#make a scatter plot using 'regplot' between ''revenue' and 'budget'.\n",
    "ax = sns.regplot(x=reader['revenue'], y=reader['budget'],color='c')\n",
    "\n",
    "#set the title and labels of the figure\n",
    "ax.set_title(\"Revenue Vs Budget\",fontsize=13)\n",
    "ax.set_xlabel(\"Revenue\",fontsize=12)\n",
    "ax.set_ylabel(\"Budget\",fontsize=12)\n",
    "#set the figure size\n",
    "sns.set(rc={'figure.figsize':(6,4)})\n",
    "sns.set_style(\"whitegrid\")\n",
    "\n",
    "#find the correlation between them\n",
    "#change zero into NAN in budget and revenue column for the exact calculation.\n",
    "reader['budget'] = reader['budget'].replace(0,np.NAN)\n",
    "reader['revenue'] = reader['revenue'].replace(0,np.NAN)\n",
    "reader['Profit'] = reader['Profit'].replace(0,np.NAN)\n",
    "\n",
    "#find the correlation using 'corr()' function.\n",
    "#it returns a dataframe which contain the correlation between all the numeric columns.\n",
    "data_corr = reader.corr()\n",
    "print(\"Correlation Between Revenue And Budget : \",data_corr.loc['revenue','budget'])"
   ]
  },
  {
   "cell_type": "code",
   "execution_count": null,
   "metadata": {
    "_uuid": "f6faf0272fdd86cc35acced6e4a69ae99bb8656a"
   },
   "outputs": [],
   "source": [
    "#how does vote average(ratings) change according to the release year.\n",
    "#make a scatter plot using 'regplot' between 'year' and 'vote average'.\n",
    "ax = sns.regplot(x=reader['release_year'], y=reader['vote_average'],color='c')\n",
    "\n",
    "#setup the title and the labels of the scatter plot.\n",
    "ax.set_title(\"Release Year Vs Vote Average\",fontsize=13)\n",
    "ax.set_xlabel(\"Release Year\",fontsize=12)\n",
    "ax.set_ylabel(\"Vote Average\",fontsize=12)\n",
    "\n",
    "#set the figure size and print the correlation between them.\n",
    "sns.set(rc={'figure.figsize':(6,4)})\n",
    "sns.set_style(\"whitegrid\")\n",
    "print(\"Correlation Between Release Year And Vote Average : \",data_corr.loc['release_year','vote_average'])"
   ]
  },
  {
   "cell_type": "code",
   "execution_count": null,
   "metadata": {
    "_uuid": "9a5264c4f5852944b574f0cadee7917dba5a3ea8"
   },
   "outputs": [],
   "source": [
    "#how does vote average(ratings) change according to the release year.\n",
    "#make a scatter plot using 'regplot' between 'year' and 'vote average'.\n",
    "ax = sns.regplot(x=reader['popularity'],y=reader['Profit'],color='c')\n",
    "\n",
    "#setup the title and the labels of the scatter plot.\n",
    "ax.set_title(\"Popularity Vs Profit\",fontsize=13)\n",
    "ax.set_xlabel(\"Popularity\",fontsize=12)\n",
    "ax.set_ylabel(\"Profit\",fontsize=12)\n",
    "\n",
    "#setup the figure size.\n",
    "sns.set(rc={'figure.figsize':(6,4)})\n",
    "sns.set_style(\"whitegrid\")\n",
    "\n",
    "#find the correlation between them.\n",
    "print(\"Correlation Between Popularity And Profit : \",data_corr.loc['popularity','Profit'])"
   ]
  },
  {
   "cell_type": "markdown",
   "metadata": {
    "_uuid": "526d2427876a9df5f7921ab1c54d6482d40f871e"
   },
   "source": [
    "\n",
    "> **These Are Estimated Values They Can Be Differ.**\n",
    "- **1. Budget vs Revenue  :**  Budget and revenue both have **positive correlation(0.68)** between them. Means there is a good possibility that movies with higher investments result in better revenues.\n",
    "- **2. Profit Vs Budget  : **  Profit And Budget both have **positive correlation(0.53)** between them. Means there is a good possibility that movies with higher investments result in better Profit.\n",
    "- **3. Release Year Vs Vote Average : ** Release year and vote Average have **negative correlation(-0.11)**. Means that movie ratings(vote average) does not depends on the release year.\n",
    "- **4. Popularity Vs Profit : ** Popularity and profit have **positive correlation(0.61)**. It means that movie with high popularity tends to earn high profit."
   ]
  },
  {
   "cell_type": "markdown",
   "metadata": {
    "_uuid": "de0243513889d0bafe91b21d2ca56ebf124ae266"
   },
   "source": [
    "### Research Question 11: Which Month Released Highest Number Of Movies In All Of The Years? And Which Month Made The Highest Average Revenue?"
   ]
  },
  {
   "cell_type": "code",
   "execution_count": null,
   "metadata": {
    "_uuid": "dd839b7cd1280335920d305ec67fbf6ddedfe4b8"
   },
   "outputs": [],
   "source": [
    "#extract the month number from the release date.\n",
    "month_release = reader['release_date'].dt.month\n",
    "\n",
    "#count the movies in each month using value_counts().\n",
    "number_of_release = month_release.value_counts().sort_index()\n",
    "months=['Jan','Feb','Mar','Apr','May','Jun','Jul','Aug','Sep','Oct','Nov','Dec']\n",
    "number_of_release = pd.DataFrame(number_of_release)\n",
    "number_of_release['month'] = months\n",
    "\n",
    "#change the column name of the new dataframe 'number_of_release'\n",
    "number_of_release.rename(columns = {'release_date':'number_of_release'},inplace=True)\n",
    "\n",
    "#plot the bar graph using plot.\n",
    "number_of_release.plot(x='month',kind='bar',fontsize = 11,figsize=(8,6))\n",
    "\n",
    "#set the labels and titles of the plot.\n",
    "plt.title('Months vs Number Of Movie Releases',fontsize = 15)\n",
    "plt.xlabel('Month',fontsize = 13)\n",
    "plt.ylabel('Number of movie releases',fontsize = 13)\n",
    "sns.set_style(\"darkgrid\")"
   ]
  },
  {
   "cell_type": "markdown",
   "metadata": {
    "_uuid": "a558993b07c7dd9e076c9c009c1f072b9429b3ba"
   },
   "source": [
    "\n",
    ">**According to the plot we can conclude that there are higher number of release in september and october month.**"
   ]
  },
  {
   "cell_type": "code",
   "execution_count": null,
   "metadata": {
    "_uuid": "cb8d8bebd69fa167d761b11793b51b5769c3bb6b"
   },
   "outputs": [],
   "source": [
    "#which month made the highest average revenue?.\n",
    "#make a dataframe with in which store the release month of each movie.\n",
    "month_release = pd.DataFrame(month_release)\n",
    "\n",
    "#change the column name of the new dataframe 'month_release'.\n",
    "month_release.rename(columns = {'release_date':'release_month'},inplace=True)\n",
    "\n",
    "#add a new column 'revenue' in the dataframe 'month_release'.\n",
    "month_release['revenue'] = reader['revenue']\n",
    "\n",
    "#make the group of the data according to their month and calculate the mean revenue of each month.\n",
    "mean_revenue  = month_release.groupby('release_month').mean()\n",
    "mean_revenue['month'] = months\n",
    "\n",
    "#make the bar plot using pandas plot function.\n",
    "mean_revenue.plot(x='month',kind='bar',figsize = (8,6),fontsize=11)\n",
    "\n",
    "#setup the title and lables of the plot.\n",
    "plt.title('Average revenue by month (1960 - 2015)',fontsize = 15)\n",
    "plt.xlabel('Month',fontsize = 13)\n",
    "plt.ylabel('Average Revenue',fontsize = 13)\n",
    "sns.set_style(\"darkgrid\")"
   ]
  },
  {
   "cell_type": "markdown",
   "metadata": {
    "_uuid": "69cba9b9eca73a0cc169a3e0c3b9248ba7b1b5b4"
   },
   "source": [
    "> **According tp the plot we can say that movie which release in may or june month made the high revenue in comparison of other month release. Or it can be happened because of outliers.**"
   ]
  },
  {
   "cell_type": "markdown",
   "metadata": {
    "_uuid": "fb3910a30b5cd57ae1a5c2501822bf320392d82d"
   },
   "source": [
    "### Research Question 12:  Which Genre Has The Highest Release Of Movies?"
   ]
  },
  {
   "cell_type": "code",
   "execution_count": null,
   "metadata": {
    "_uuid": "fb5e8ee2a21e87abebf2a6c50ead7efd84161d56"
   },
   "outputs": [],
   "source": [
    "#make a function will will split the string and return the count of each genre.\n",
    "def count_genre(x):\n",
    "    #concatenate all the rows of the genrs.\n",
    "    data_plot = reader[x].str.cat(sep = '|')\n",
    "    data = pd.Series(data_plot.split('|'))\n",
    "    #conts each of the genre and return.\n",
    "    info = data.value_counts(ascending=False)\n",
    "    return info\n",
    "\n",
    "#call the function for counting the movies of each genre.\n",
    "total_genre_movies = count_genre('genres')\n",
    "#plot a 'barh' plot using plot function for 'genre vs number of movies'.\n",
    "total_genre_movies.plot(kind= 'barh',figsize = (13,6),fontsize=12,colormap='tab20c')\n",
    "\n",
    "#setup the title and the labels of the plot.\n",
    "plt.title(\"Genre With Highest Release\",fontsize=15)\n",
    "plt.xlabel('Number Of Movies',fontsize=13)\n",
    "plt.ylabel(\"Genres\",fontsize= 13)\n",
    "sns.set_style(\"whitegrid\")"
   ]
  },
  {
   "cell_type": "code",
   "execution_count": null,
   "metadata": {
    "_uuid": "e9741f7a87d5b501b5f23b58b93aaccf8eb2064a"
   },
   "outputs": [],
   "source": [
    "i = 0\n",
    "genre_count = []\n",
    "for genre in total_genre_movies.index:\n",
    "    genre_count.append([genre, total_genre_movies[i]])\n",
    "    i = i+1\n",
    "    \n",
    "plt.rc('font', weight='bold')\n",
    "f, ax = plt.subplots(figsize=(5, 5))\n",
    "genre_count.sort(key = lambda x:x[1], reverse = True)\n",
    "labels, sizes = zip(*genre_count)\n",
    "labels_selected = [n if v > sum(sizes) * 0.01 else '' for n, v in genre_count]\n",
    "ax.pie(sizes, labels=labels_selected,\n",
    "       autopct = lambda x:'{:2.0f}%'.format(x) if x > 1 else '',\n",
    "       shadow=False, startangle=0)\n",
    "ax.axis('equal')\n",
    "plt.tight_layout()"
   ]
  },
  {
   "cell_type": "markdown",
   "metadata": {
    "_uuid": "b1a4bf755cdcee09b92836b5e2e614afa275dd3c"
   },
   "source": []
  },
  {
   "cell_type": "markdown",
   "metadata": {
    "_uuid": "d47be486980507bcd560164ac3294fe1261a7940"
   },
   "source": [
    "> **According to the plot Drama(4761) genre has the highest release of movies followed by Comedy(3793) and Thriller(2908).**"
   ]
  },
  {
   "cell_type": "markdown",
   "metadata": {
    "_uuid": "f1a9f15bb16c96ce0066420693203d52fd606888"
   },
   "source": [
    "### Research Question 13: Which genres are most popular from year to year?"
   ]
  },
  {
   "cell_type": "code",
   "execution_count": null,
   "metadata": {
    "_uuid": "1c4f44ffae91e4f7e0e50a2be7f4b4a7a0a744a8"
   },
   "outputs": [],
   "source": [
    "#map all the rows of genres in a list.\n",
    "genre_details = list(map(str,(reader['genres'])))\n",
    "genre = ['Adventure', 'Science Fiction', 'Fantasy', 'Crime', 'Western', 'Family','nan', 'Animation','War','Mystery','Romance','TV Movie','Action', 'Thriller','Comedy','Drama' , 'History', 'Music', 'Horror', 'Documentary', 'Foreign']\n",
    "\n",
    "#make the numpy array of year and popularity which contain all the rows of release_year and popularity column. \n",
    "year = np.array(reader['release_year'])\n",
    "popularity = np.array(reader['popularity'])\n",
    "\n",
    "#make a null dataframe which indexs are genres and columns are years.\n",
    "popularity_df = pd.DataFrame(index = genre, columns = range(1960, 2016))\n",
    "#change all the values of the dataframe from NAN to zero.\n",
    "popularity_df = popularity_df.fillna(value = 0.0)\n",
    "\n",
    "z = 0\n",
    "for i in genre_details:\n",
    "    split_genre = list(map(str,i.split('|')))\n",
    "    popularity_df.loc[split_genre, year[z]] = popularity_df.loc[split_genre, year[z]] + popularity[z]\n",
    "    z+=1"
   ]
  },
  {
   "cell_type": "code",
   "execution_count": null,
   "metadata": {
    "_uuid": "509cce9999901ca8d6ce13e95b29bda9c74e3f0e"
   },
   "outputs": [],
   "source": [
    "#calculate the standard deviation for the accurate results.\n",
    "def calculate_std(x):\n",
    "    return (x-x.mean())/x.std(ddof=0)\n",
    "\n",
    "popular_genre = calculate_std(popularity_df)\n",
    "popular_genre.head()"
   ]
  },
  {
   "cell_type": "code",
   "execution_count": null,
   "metadata": {
    "_uuid": "42294a0ba6cedef30e7eacc490e7bb7ab8ef14a0"
   },
   "outputs": [],
   "source": [
    "#plot the barh plot of the standardised data.\n",
    "popular_genre.iloc[10:,53:].plot(kind='barh',figsize = (15,6),fontsize=13)\n",
    "\n",
    "#setup the title and labels of the plot.\n",
    "plt.title(\"Most Popular Genre Over Year To Year\",fontsize=15)\n",
    "plt.xlabel(\"Popularity (Standerd Units)\",fontsize=14)\n",
    "plt.ylabel(\"Genres\",fontsize = 14)\n",
    "sns.set_style(\"whitegrid\")"
   ]
  },
  {
   "cell_type": "code",
   "execution_count": null,
   "metadata": {
    "_uuid": "273f42971046be01547d82d87392bbd4f967e864"
   },
   "outputs": [],
   "source": [
    "#How the popularity of the genre differ year by year.\n",
    "sns.set_style(\"whitegrid\")\n",
    "#make a subplot of size 3,3.\n",
    "fig, ax = plt.subplots(3,3,figsize = (16,10))\n",
    "\n",
    "#set the title of the subplot.\n",
    "fig.suptitle('Genre Popularity Over Year To Year',fontsize = 16)\n",
    "\n",
    "#plot the 'Drama' genre plot see the popularity difference over year to year.\n",
    "popular_genre.loc['Drama'].plot(label = \"Drama\",color = '#f67280',ax = ax[0][0],legend=True)\n",
    "\n",
    "#plot the 'Action' genre plot see the popularity difference over year to year.\n",
    "popular_genre.loc['Action'].plot(label = \"Horror\",color='#33FFB5',ax = ax[0][1],legend=True)\n",
    "\n",
    "#plot the 'Comedy' genre plot see the popularity difference over year to year.\n",
    "popular_genre.loc['Comedy'].plot(label = \"Comedy\",color='#fe5f55',ax = ax[0][2],legend=True)\n",
    "\n",
    "#accordig to the previous plot the 'Thriller','Science Fiction', 'Romance', 'Music','Adventure' and 'Crime'.\n",
    "popular_genre.loc['Thriller'].plot(label = \"Horror\",color='#00818a',ax = ax[1][0],legend=True)\n",
    "popular_genre.loc['Science Fiction'].plot(label = \"Science Fiction\",color='#6f6600',ax = ax[1][1],legend=True)\n",
    "popular_genre.loc['Romance'].plot(label = \"Romance\",color='#1a2c5b',ax = ax[1][2],legend=True)\n",
    "popular_genre.loc['Music'].plot(label = \"Music\",color='#db3b61',ax = ax[2][0],legend=True)\n",
    "popular_genre.loc['Adventure'].plot(label = \"Adventure\",color='#08c299',ax = ax[2][1],legend=True)\n",
    "popular_genre.loc['Crime'].plot(label = \"Crime\",color='c',ax = ax[2][2],legend=True)"
   ]
  },
  {
   "cell_type": "markdown",
   "metadata": {
    "_uuid": "d7e2940595baea54aed7864472367e504b39725c"
   },
   "source": [
    "### Reasearch Question 14: Most Frequent Actor?"
   ]
  },
  {
   "cell_type": "code",
   "execution_count": null,
   "metadata": {
    "_uuid": "472de471acd1def94c926b559c46ec784a27cd16"
   },
   "outputs": [],
   "source": [
    "#call the 'count_genre' function which we made earlier for spiliing and counting genres.\n",
    "#it wiil count number of movies done by each actor.\n",
    "count_actor_flims = count_genre('cast')\n",
    "\n",
    "#plot the barh plot.\n",
    "count_actor_flims.iloc[:20].plot.bar(figsize=(13,6),colormap= 'tab20c',fontsize=12)\n",
    "\n",
    "#setup the title and the labels of the plot.\n",
    "plt.title(\"Most Frequent Actor\",fontsize=15)\n",
    "plt.xticks(rotation = 70)\n",
    "plt.xlabel('Actor',fontsize=13)\n",
    "plt.ylabel(\"Number Of Movies\",fontsize= 13)\n",
    "sns.set_style(\"whitegrid\")"
   ]
  },
  {
   "cell_type": "markdown",
   "metadata": {
    "_uuid": "265dcc55d1bec19c254d5d89c3e33cb76d4561dd"
   },
   "source": [
    "### Reasearch Question 15: Top 20 Production Companies With Higher Number Of Release?"
   ]
  },
  {
   "cell_type": "code",
   "execution_count": null,
   "metadata": {
    "_uuid": "6ae279a89e3329b21990955a7c27dc1b0902650d"
   },
   "outputs": [],
   "source": [
    "#call the 'count_genre' function which we made earlier for spiliing and counting genres.\n",
    "#it wiil count number of movies released by each production company.\n",
    "production_companies = count_genre('production_companies')\n",
    "\n",
    "#plot he barh plot.\n",
    "production_companies.iloc[:20].plot(kind='barh',figsize=(16,8),fontsize=13)\n",
    "plt.title(\"Production Companies Vs Number Of Movies\",fontsize=15)\n",
    "plt.xlabel('Number Of Movies',fontsize=14)\n",
    "sns.set_style(\"whitegrid\")"
   ]
  },
  {
   "cell_type": "markdown",
   "metadata": {
    "_uuid": "11108507d3aa41c700018babeab3c7d35dc6beb2"
   },
   "source": [
    "### Reasearch Question 16: Life Time Profit Earn By Each Production Company"
   ]
  },
  {
   "cell_type": "code",
   "execution_count": null,
   "metadata": {
    "_uuid": "e31cbec0dca93ff4c4a3a43f069cd57a6d655dd5"
   },
   "outputs": [],
   "source": [
    "##map all the rows of production_companies in a list.\n",
    "data1 = list(map(str,(reader['production_companies'])))\n",
    "production_companies = pd.DataFrame(production_companies)\n",
    "\n",
    "#make the list of profit and production_companies which contain all the rows of profit and production_companies column. \n",
    "data3 = list(production_companies.index.values)\n",
    "#append the nan in the data3 because production_companies row has null values also.\n",
    "data3.append('nan')\n",
    "reader['Profit'] = reader['Profit'].replace(np.NAN,0)\n",
    "profit = np.array(reader['Profit'])\n",
    "\n",
    "#make a null dataframe which indexs are genres and has only one column Total Profit.\n",
    "companies_df = pd.DataFrame(index = data3 ,columns =np.arange(0,1,1) )\n",
    "#change all the values of the dataframe from NAN to zero.\n",
    "companies_df = companies_df.fillna(value = 0.0)\n",
    "\n",
    "z = 0\n",
    "for i in data1:\n",
    "    split_companies = list(map(str,i.split('|')))\n",
    "    companies_df.loc[split_companies] = companies_df.loc[split_companies] + profit[z]\n",
    "    z+=1"
   ]
  },
  {
   "cell_type": "code",
   "execution_count": null,
   "metadata": {
    "_uuid": "82035c7ef6975b34e3cf8bc096818b24b4490c24"
   },
   "outputs": [],
   "source": [
    "#Rename the column name \n",
    "companies_df = companies_df.rename(columns={0:'Total Profit'})\n",
    "#plot the barh plot\n",
    "companies_df[:20].plot.barh(figsize=(13,6),fontsize=12,legend=True)\n",
    "plt.title(\"Production Companies Vs Life Time Profit\",fontsize=15)\n",
    "plt.xlabel('Total Profit',fontsize=13)\n",
    "sns.set_style(\"whitegrid\")"
   ]
  },
  {
   "cell_type": "markdown",
   "metadata": {
    "_uuid": "1de580514113339cef212bf69ebc8e58a837dc49"
   },
   "source": [
    "### Research Question 17 :   Top 20 Director Who Directs Maximum Movies?"
   ]
  },
  {
   "cell_type": "code",
   "execution_count": null,
   "metadata": {
    "_uuid": "2904108f2397ab3fce6d53f4e6d2e9921b0c0473"
   },
   "outputs": [],
   "source": [
    "#call the 'count_genre' function which we made earlier for spiliing and counting genres.\n",
    "#it wiil count number of movies directed by each diretor.\n",
    "count_director_movies = count_genre('director')\n",
    "\n",
    "#plot a barh graph\n",
    "count_director_movies.iloc[:20].plot(kind='bar',figsize=(13,6),fontsize=12)\n",
    "\n",
    "#setup the title and the labels \n",
    "plt.title(\"Director Vs Number Of Movies\",fontsize=15)\n",
    "plt.xticks(rotation=70)\n",
    "plt.ylabel(\"Number Of Movies\",fontsize= 13)\n",
    "sns.set_style(\"whitegrid\")"
   ]
  },
  {
   "cell_type": "markdown",
   "metadata": {
    "_uuid": "ffff4d82f03682dbc385b07b1a1ac735d83a493b"
   },
   "source": [
    "### Research Question 18: What Kind Of Properties Are Associated With Movies With High Revenue?"
   ]
  },
  {
   "cell_type": "code",
   "execution_count": null,
   "metadata": {
    "_uuid": "8b75d16111642fd4e226baff891503efafe7a1a9"
   },
   "outputs": [],
   "source": [
    "info = pd.DataFrame(reader['revenue'].sort_values(ascending=False))\n",
    "data_set = ['id','popularity','budget','original_title','cast','director','runtime','genres','vote_average','release_year']\n",
    "for i in data_set:\n",
    "    info[i] = reader[i]\n",
    "info.head(3)"
   ]
  },
  {
   "cell_type": "code",
   "execution_count": null,
   "metadata": {
    "_uuid": "b0c9748aa9e60f0e0718cea8878b143cb0836a57"
   },
   "outputs": [],
   "source": [
    "fig, axes = plt.subplots(2,2,figsize = (16,6))\n",
    "fig.suptitle(\"Revenue Vs (Budget,Popularity,Vote Average,Runtime)\",fontsize=14)\n",
    "#info.plot(x = ['revenue'],y = ['budget'],kind = \"scatter\",ax = axes[0][0])\n",
    "sns.regplot(x=reader['revenue'], y=reader['budget'],color='c',ax=axes[0][0])\n",
    "sns.regplot(x=reader['revenue'], y=reader['popularity'],color='c',ax=axes[0][1])\n",
    "sns.regplot(x=reader['revenue'], y=reader['vote_average'],color='c',ax=axes[1][0])\n",
    "sns.regplot(x=reader['revenue'], y=reader['runtime'],color='c',ax=axes[1][1])\n",
    "#axes.scatter(info['revenue'],info['vote_average'])\n",
    "sns.set_style(\"whitegrid\")"
   ]
  },
  {
   "cell_type": "code",
   "execution_count": null,
   "metadata": {
    "_uuid": "8133106847323a95a38fc4fcd1f4e8aebc78735f"
   },
   "outputs": [],
   "source": [
    "def plot_correlation_map( df ):\n",
    "    corr = df.corr()\n",
    "    _ , ax = plt.subplots( figsize =( 12 , 10 ) )\n",
    "    cmap = sns.diverging_palette( 240 , 10 , as_cmap = True )\n",
    "    _ = sns.heatmap(corr,cmap = cmap,square=True, cbar_kws={ 'shrink' : .9 }, ax=ax, annot = True, annot_kws = { 'fontsize' : 12 })"
   ]
  },
  {
   "cell_type": "code",
   "execution_count": null,
   "metadata": {
    "_uuid": "280e1638c930f704d3871bed12aa5a8e54addde7"
   },
   "outputs": [],
   "source": [
    "plot_correlation_map(reader[['popularity','budget','revenue','runtime','vote_count','vote_average']])"
   ]
  },
  {
   "cell_type": "markdown",
   "metadata": {
    "_uuid": "fad271630cb79e055d89b71db720b01b8196a7fb"
   },
   "source": [
    "A brief description of the above plots,\n",
    "\n",
    "**Plot 1: Budget vs Revenue**\n",
    "\n",
    "The revenues do increase slightly at higher levels but the number of movies with high budgets seem scarce. There is a good possibility that movies with higher investments result in better revenues.\n",
    "- Correlation = 0.68\n",
    "\n",
    "I can't find a relationship here. The revenues don't seem to change with higher vote average.\n",
    "\n",
    "**Plot 2: Popularity vs Revenue **\n",
    "\n",
    "The revenue seems to be increasing with popularity. We can say that if the popularity of movie is high then the revenue of the movie may be high.\n",
    "- Correlation = 0.62\n",
    "\n",
    "**Plot 3: Vote Average vs Revenue **\n",
    "\n",
    "The correlation between revenue and vote average is **0.2069**. So vote average is not highly related to the revenue.\n",
    "\n",
    "**Plot 4: Runtime vs Revenue **\n",
    "\n",
    "The correlation between revenue and runtime is **0.2378**. So runtime is not highly related to the revenue."
   ]
  },
  {
   "cell_type": "markdown",
   "metadata": {
    "_uuid": "375672e6a298cafddd31b0e223d1df9ccbb451ac"
   },
   "source": [
    "<a id='conclusions'></a>\n",
    "## Conclusions\n",
    "\n",
    "> \n",
    "- Drama is the most popular genre, following by action, comedy and thriller.\n",
    "- Drame, Comedy, Thriller and Action are four most-made genres. \n",
    "- Maximum Number  Of Movies Release In year 2014.\n",
    "- 'Avatar', 'Star Wars' and 'Titanic' are the most profitable movies.\n",
    "- Short or Long duration movies are more popular than long duration movies.\n",
    "- Average runtime of the movies are decreasing year by year.\n",
    "- May,june,november and december are most popular month for releasing movies, if you want to earn more profit.\n",
    "- Revenue is directly connected to the budget.\n",
    "- Warner Bros, Universal Pictures and Paramount Pictures production companies earn more life time profit than other production companies.\n",
    "- Movies with higher budgets have shown a corresponding increase in the revenues.\n"
   ]
  },
  {
   "cell_type": "markdown",
   "metadata": {
    "_uuid": "0856be7afff2771043fdbd1cdced894894bc646e"
   },
   "source": [
    ">**Limitations** \n",
    "- It's not 100 percent guaranteed solution that this formula is gonna work, But it shows us that we have high probability of making high profits if we had similar characteristics as such. If we release a movie with these characteristics, it gives people high expectations from this movie. This was just one example of an influantial factor that would lead to different results, there are many that have to be taken care of.\n",
    "- During the data cleaning process, I split the data seperated by '|' into lists for easy parsing during the exploration phase. This increases the time taken in calculating the result."
   ]
  },
  {
   "cell_type": "code",
   "execution_count": null,
   "metadata": {
    "_uuid": "525f65bb6284fa5a8ebf4e233f582fdb08c4000b"
   },
   "outputs": [],
   "source": []
  }
 ],
 "metadata": {
  "kernelspec": {
   "display_name": "Python 3 (ipykernel)",
   "language": "python",
   "name": "python3"
  },
  "language_info": {
   "codemirror_mode": {
    "name": "ipython",
    "version": 3
   },
   "file_extension": ".py",
   "mimetype": "text/x-python",
   "name": "python",
   "nbconvert_exporter": "python",
   "pygments_lexer": "ipython3",
   "version": "3.9.1"
  }
 },
 "nbformat": 4,
 "nbformat_minor": 1
}
